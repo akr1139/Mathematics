{
  "cells": [
    {
      "cell_type": "markdown",
      "metadata": {
        "id": "view-in-github",
        "colab_type": "text"
      },
      "source": [
        "<a href=\"https://colab.research.google.com/github/akr1139/Mathematics/blob/main/Differentiation.ipynb\" target=\"_parent\"><img src=\"https://colab.research.google.com/assets/colab-badge.svg\" alt=\"Open In Colab\"/></a>"
      ]
    },
    {
      "cell_type": "code",
      "execution_count": 1,
      "metadata": {
        "id": "PmgEb05G2Mbz"
      },
      "outputs": [],
      "source": [
        "import sympy as smp\n",
        "from sympy import *"
      ]
    },
    {
      "cell_type": "code",
      "execution_count": 2,
      "metadata": {
        "id": "IWDZkWHN2Mb5"
      },
      "outputs": [],
      "source": [
        "x, y = smp.symbols('x y')"
      ]
    },
    {
      "cell_type": "markdown",
      "metadata": {
        "id": "HMML35Cz2McB"
      },
      "source": [
        "# Derivatives"
      ]
    },
    {
      "cell_type": "markdown",
      "metadata": {
        "id": "VvsT6QU22McB"
      },
      "source": [
        "$$ \\frac{d}{dx} \\left( \\frac{1+\\sin x}{1 - \\cos x} \\right)^2 $$"
      ]
    },
    {
      "cell_type": "code",
      "execution_count": 3,
      "metadata": {
        "colab": {
          "base_uri": "https://localhost:8080/",
          "height": 63
        },
        "id": "IgKMKz1Y2McC",
        "outputId": "288f2184-b671-4dee-a7cb-64d304274596"
      },
      "outputs": [
        {
          "output_type": "execute_result",
          "data": {
            "text/plain": [
              "2*(sin(x) + 1)*cos(x)/(1 - cos(x))**2 - 2*(sin(x) + 1)**2*sin(x)/(1 - cos(x))**3"
            ],
            "text/latex": "$\\displaystyle \\frac{2 \\left(\\sin{\\left(x \\right)} + 1\\right) \\cos{\\left(x \\right)}}{\\left(1 - \\cos{\\left(x \\right)}\\right)^{2}} - \\frac{2 \\left(\\sin{\\left(x \\right)} + 1\\right)^{2} \\sin{\\left(x \\right)}}{\\left(1 - \\cos{\\left(x \\right)}\\right)^{3}}$"
          },
          "metadata": {},
          "execution_count": 3
        }
      ],
      "source": [
        "smp.diff(((1 + smp.sin(x)) / (1 - smp.cos(x)))**2, x)"
      ]
    },
    {
      "cell_type": "markdown",
      "metadata": {
        "id": "SEwSmLh-2McC"
      },
      "source": [
        "$$ \\frac{d}{dx} (\\log_5 (x))^{x/2}$$"
      ]
    },
    {
      "cell_type": "code",
      "execution_count": 4,
      "metadata": {
        "colab": {
          "base_uri": "https://localhost:8080/",
          "height": 81
        },
        "id": "RjYdHbwt2McC",
        "outputId": "0bf8791e-6509-4df9-c2b9-8fade29b4502"
      },
      "outputs": [
        {
          "output_type": "execute_result",
          "data": {
            "text/plain": [
              "(log(x)/log(5))**(x/2)*(log(log(x)/log(5))/2 + 1/(2*log(x)))"
            ],
            "text/latex": "$\\displaystyle \\left(\\frac{\\log{\\left(x \\right)}}{\\log{\\left(5 \\right)}}\\right)^{\\frac{x}{2}} \\left(\\frac{\\log{\\left(\\frac{\\log{\\left(x \\right)}}{\\log{\\left(5 \\right)}} \\right)}}{2} + \\frac{1}{2 \\log{\\left(x \\right)}}\\right)$"
          },
          "metadata": {},
          "execution_count": 4
        }
      ],
      "source": [
        "smp.diff(smp.log(x, 5)**(x/2), x)"
      ]
    },
    {
      "cell_type": "markdown",
      "metadata": {
        "id": "2flr2w3g2McC"
      },
      "source": [
        "$$\\frac{d}{dx} f(x+g(x)) $$"
      ]
    },
    {
      "cell_type": "code",
      "execution_count": 5,
      "metadata": {
        "id": "8Ines1aP2McD"
      },
      "outputs": [],
      "source": [
        "f, g = smp.symbols('f g', cls=smp.Function)\n",
        "g = g(x)\n",
        "f = f(x+g)"
      ]
    },
    {
      "cell_type": "code",
      "execution_count": 6,
      "metadata": {
        "colab": {
          "base_uri": "https://localhost:8080/",
          "height": 62
        },
        "id": "O0FeZwJk2McD",
        "outputId": "cf06bee2-949a-4d85-f9f4-ad53a9d8ccc9"
      },
      "outputs": [
        {
          "output_type": "execute_result",
          "data": {
            "text/plain": [
              "(Derivative(g(x), x) + 1)*Subs(Derivative(f(_xi_1), _xi_1), _xi_1, x + g(x))"
            ],
            "text/latex": "$\\displaystyle \\left(\\frac{d}{d x} g{\\left(x \\right)} + 1\\right) \\left. \\frac{d}{d \\xi_{1}} f{\\left(\\xi_{1} \\right)} \\right|_{\\substack{ \\xi_{1}=x + g{\\left(x \\right)} }}$"
          },
          "metadata": {},
          "execution_count": 6
        }
      ],
      "source": [
        "smp.diff(f,x)"
      ]
    }
  ],
  "metadata": {
    "kernelspec": {
      "display_name": "Python 3",
      "name": "python3"
    },
    "language_info": {
      "codemirror_mode": {
        "name": "ipython",
        "version": 3
      },
      "file_extension": ".py",
      "mimetype": "text/x-python",
      "name": "python",
      "nbconvert_exporter": "python",
      "pygments_lexer": "ipython3",
      "version": "3.6.9"
    },
    "colab": {
      "provenance": [],
      "include_colab_link": true
    },
    "accelerator": "TPU"
  },
  "nbformat": 4,
  "nbformat_minor": 0
}