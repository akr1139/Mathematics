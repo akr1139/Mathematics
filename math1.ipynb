{
  "cells": [
    {
      "cell_type": "markdown",
      "metadata": {
        "id": "view-in-github",
        "colab_type": "text"
      },
      "source": [
        "<a href=\"https://colab.research.google.com/github/akr1139/Mathematics/blob/main/math1.ipynb\" target=\"_parent\"><img src=\"https://colab.research.google.com/assets/colab-badge.svg\" alt=\"Open In Colab\"/></a>"
      ]
    },
    {
      "cell_type": "code",
      "execution_count": 1,
      "metadata": {
        "id": "PmgEb05G2Mbz"
      },
      "outputs": [],
      "source": [
        "import sympy as smp\n",
        "from sympy import *"
      ]
    },
    {
      "cell_type": "code",
      "execution_count": 2,
      "metadata": {
        "id": "IWDZkWHN2Mb5"
      },
      "outputs": [],
      "source": [
        "x, y = smp.symbols('x y')"
      ]
    },
    {
      "cell_type": "markdown",
      "metadata": {
        "id": "1lEKf2Dh2Mb6"
      },
      "source": [
        "# Limits"
      ]
    },
    {
      "cell_type": "markdown",
      "metadata": {
        "id": "nUBe6uAZ2Mb9"
      },
      "source": [
        "$$\\lim_{x \\to \\pi} \\sin(x/2+ \\sin(x))$$"
      ]
    },
    {
      "cell_type": "code",
      "execution_count": 3,
      "metadata": {
        "colab": {
          "base_uri": "https://localhost:8080/",
          "height": 37
        },
        "id": "AVnF7Slo2Mb9",
        "outputId": "57326a23-3eb5-4890-b58d-d2e66482dc06"
      },
      "outputs": [
        {
          "output_type": "execute_result",
          "data": {
            "text/plain": [
              "1"
            ],
            "text/latex": "$\\displaystyle 1$"
          },
          "metadata": {},
          "execution_count": 3
        }
      ],
      "source": [
        "smp.limit(smp.sin(x/2 + smp.sin(x)), x, smp.pi)"
      ]
    },
    {
      "cell_type": "markdown",
      "metadata": {
        "id": "dnCvZkZZ2Mb-"
      },
      "source": [
        "$$ \\lim_{x \\to 0^+} \\frac{2e^{1/x}}{e^{1/x}+1} $$"
      ]
    },
    {
      "cell_type": "code",
      "execution_count": 4,
      "metadata": {
        "colab": {
          "base_uri": "https://localhost:8080/",
          "height": 37
        },
        "id": "6Kw0Gj0X2Mb_",
        "outputId": "26e769fa-1aa5-43d6-f0e2-85ab36e25139"
      },
      "outputs": [
        {
          "output_type": "execute_result",
          "data": {
            "text/plain": [
              "2"
            ],
            "text/latex": "$\\displaystyle 2$"
          },
          "metadata": {},
          "execution_count": 4
        }
      ],
      "source": [
        "smp.limit(2*smp.exp(1/x) / (smp.exp(1/x)+1), x, 0, dir='+')"
      ]
    },
    {
      "cell_type": "markdown",
      "metadata": {
        "id": "Snvj72lo2McA"
      },
      "source": [
        "$$ \\lim_{x \\to 0^-} \\frac{2e^{1/x}}{e^{1/x}+1} $$"
      ]
    },
    {
      "cell_type": "code",
      "execution_count": 5,
      "metadata": {
        "colab": {
          "base_uri": "https://localhost:8080/",
          "height": 37
        },
        "id": "sW7GeC452McA",
        "outputId": "6bf23cf0-8fff-41e5-a28b-a752a60b5219"
      },
      "outputs": [
        {
          "output_type": "execute_result",
          "data": {
            "text/plain": [
              "0"
            ],
            "text/latex": "$\\displaystyle 0$"
          },
          "metadata": {},
          "execution_count": 5
        }
      ],
      "source": [
        "smp.limit(2*smp.exp(1/x) / (smp.exp(1/x)+1), x, 0, dir='-')"
      ]
    },
    {
      "cell_type": "markdown",
      "metadata": {
        "id": "48nPzPdc2McB"
      },
      "source": [
        "$$ \\lim_{x \\to \\infty} \\frac{\\cos(x)-1}{x} $$"
      ]
    },
    {
      "cell_type": "code",
      "execution_count": 6,
      "metadata": {
        "colab": {
          "base_uri": "https://localhost:8080/",
          "height": 37
        },
        "id": "ges8oQk62McB",
        "outputId": "536b2ec8-9be8-4f30-ce7e-ad848705be63"
      },
      "outputs": [
        {
          "output_type": "execute_result",
          "data": {
            "text/plain": [
              "0"
            ],
            "text/latex": "$\\displaystyle 0$"
          },
          "metadata": {},
          "execution_count": 6
        }
      ],
      "source": [
        "smp.limit((smp.cos(x) - 1)/x, x, smp.oo)"
      ]
    },
    {
      "cell_type": "markdown",
      "metadata": {
        "id": "HMML35Cz2McB"
      },
      "source": [
        "# Derivatives"
      ]
    },
    {
      "cell_type": "markdown",
      "metadata": {
        "id": "VvsT6QU22McB"
      },
      "source": [
        "$$ \\frac{d}{dx} \\left( \\frac{1+\\sin x}{1 - \\cos x} \\right)^2 $$"
      ]
    },
    {
      "cell_type": "code",
      "execution_count": 7,
      "metadata": {
        "colab": {
          "base_uri": "https://localhost:8080/",
          "height": 63
        },
        "id": "IgKMKz1Y2McC",
        "outputId": "5679fb49-91fd-478f-bb49-fbc36e87a4e6"
      },
      "outputs": [
        {
          "output_type": "execute_result",
          "data": {
            "text/plain": [
              "2*(sin(x) + 1)*cos(x)/(1 - cos(x))**2 - 2*(sin(x) + 1)**2*sin(x)/(1 - cos(x))**3"
            ],
            "text/latex": "$\\displaystyle \\frac{2 \\left(\\sin{\\left(x \\right)} + 1\\right) \\cos{\\left(x \\right)}}{\\left(1 - \\cos{\\left(x \\right)}\\right)^{2}} - \\frac{2 \\left(\\sin{\\left(x \\right)} + 1\\right)^{2} \\sin{\\left(x \\right)}}{\\left(1 - \\cos{\\left(x \\right)}\\right)^{3}}$"
          },
          "metadata": {},
          "execution_count": 7
        }
      ],
      "source": [
        "smp.diff(((1 + smp.sin(x)) / (1 - smp.cos(x)))**2, x)"
      ]
    },
    {
      "cell_type": "markdown",
      "metadata": {
        "id": "SEwSmLh-2McC"
      },
      "source": [
        "$$ \\frac{d}{dx} (\\log_5 (x))^{x/2}$$"
      ]
    },
    {
      "cell_type": "code",
      "execution_count": 8,
      "metadata": {
        "colab": {
          "base_uri": "https://localhost:8080/",
          "height": 81
        },
        "id": "RjYdHbwt2McC",
        "outputId": "78844d6a-0edd-4232-c4b6-b57443f34b82"
      },
      "outputs": [
        {
          "output_type": "execute_result",
          "data": {
            "text/plain": [
              "(log(x)/log(5))**(x/2)*(log(log(x)/log(5))/2 + 1/(2*log(x)))"
            ],
            "text/latex": "$\\displaystyle \\left(\\frac{\\log{\\left(x \\right)}}{\\log{\\left(5 \\right)}}\\right)^{\\frac{x}{2}} \\left(\\frac{\\log{\\left(\\frac{\\log{\\left(x \\right)}}{\\log{\\left(5 \\right)}} \\right)}}{2} + \\frac{1}{2 \\log{\\left(x \\right)}}\\right)$"
          },
          "metadata": {},
          "execution_count": 8
        }
      ],
      "source": [
        "smp.diff(smp.log(x, 5)**(x/2), x)"
      ]
    },
    {
      "cell_type": "markdown",
      "metadata": {
        "id": "2flr2w3g2McC"
      },
      "source": [
        "$$\\frac{d}{dx} f(x+g(x)) $$"
      ]
    },
    {
      "cell_type": "code",
      "execution_count": 9,
      "metadata": {
        "id": "8Ines1aP2McD"
      },
      "outputs": [],
      "source": [
        "f, g = smp.symbols('f g', cls=smp.Function)\n",
        "g = g(x)\n",
        "f = f(x+g)"
      ]
    },
    {
      "cell_type": "code",
      "execution_count": 10,
      "metadata": {
        "colab": {
          "base_uri": "https://localhost:8080/",
          "height": 62
        },
        "id": "O0FeZwJk2McD",
        "outputId": "86e40b75-58c9-4335-e6d6-78938d532074"
      },
      "outputs": [
        {
          "output_type": "execute_result",
          "data": {
            "text/plain": [
              "(Derivative(g(x), x) + 1)*Subs(Derivative(f(_xi_1), _xi_1), _xi_1, x + g(x))"
            ],
            "text/latex": "$\\displaystyle \\left(\\frac{d}{d x} g{\\left(x \\right)} + 1\\right) \\left. \\frac{d}{d \\xi_{1}} f{\\left(\\xi_{1} \\right)} \\right|_{\\substack{ \\xi_{1}=x + g{\\left(x \\right)} }}$"
          },
          "metadata": {},
          "execution_count": 10
        }
      ],
      "source": [
        "smp.diff(f,x)"
      ]
    },
    {
      "cell_type": "markdown",
      "metadata": {
        "id": "O_UQLEjP2McD"
      },
      "source": [
        "# Basic Antiderivatives"
      ]
    },
    {
      "cell_type": "markdown",
      "metadata": {
        "id": "I_LDlOqg2McD"
      },
      "source": [
        "$$ \\int \\csc(x) \\cot (x)  dx $$"
      ]
    },
    {
      "cell_type": "code",
      "execution_count": 11,
      "metadata": {
        "colab": {
          "base_uri": "https://localhost:8080/",
          "height": 55
        },
        "id": "oDAKsL0f2McE",
        "outputId": "ed022afe-28e5-4cc6-a4b3-6bcf9fd04a03"
      },
      "outputs": [
        {
          "output_type": "execute_result",
          "data": {
            "text/plain": [
              "-1/sin(x)"
            ],
            "text/latex": "$\\displaystyle - \\frac{1}{\\sin{\\left(x \\right)}}$"
          },
          "metadata": {},
          "execution_count": 11
        }
      ],
      "source": [
        "smp.integrate(smp.csc(x)*smp.cot(x), x)"
      ]
    },
    {
      "cell_type": "markdown",
      "metadata": {
        "id": "fPnJS92a2McE"
      },
      "source": [
        "$$ \\int 4 \\sec (3x) \\tan(3x)dx $$"
      ]
    },
    {
      "cell_type": "code",
      "execution_count": 12,
      "metadata": {
        "colab": {
          "base_uri": "https://localhost:8080/",
          "height": 55
        },
        "id": "YxEVZGV62McE",
        "outputId": "157a2edd-e9ff-4c43-e7d8-b7f6cdb3bc70"
      },
      "outputs": [
        {
          "output_type": "execute_result",
          "data": {
            "text/plain": [
              "4/(3*cos(3*x))"
            ],
            "text/latex": "$\\displaystyle \\frac{4}{3 \\cos{\\left(3 x \\right)}}$"
          },
          "metadata": {},
          "execution_count": 12
        }
      ],
      "source": [
        "smp.integrate(4*smp.sec(3*x)*smp.tan(3*x), x)"
      ]
    },
    {
      "cell_type": "markdown",
      "metadata": {
        "id": "P334W0tX2McE"
      },
      "source": [
        "$$ \\int \\left( \\frac{2}{\\sqrt{1-x^2}} - \\frac{1}{x^{1/4}}\\right) dx$$"
      ]
    },
    {
      "cell_type": "code",
      "execution_count": 13,
      "metadata": {
        "colab": {
          "base_uri": "https://localhost:8080/",
          "height": 56
        },
        "id": "W2WCuSY-2McE",
        "outputId": "9474a7a5-3088-4588-c17d-b8778ab906dc"
      },
      "outputs": [
        {
          "output_type": "execute_result",
          "data": {
            "text/plain": [
              "-4*x**(3/4)/3 + 2*asin(x)"
            ],
            "text/latex": "$\\displaystyle - \\frac{4 x^{\\frac{3}{4}}}{3} + 2 \\operatorname{asin}{\\left(x \\right)}$"
          },
          "metadata": {},
          "execution_count": 13
        }
      ],
      "source": [
        "smp.integrate(2/smp.sqrt(1-x**2) - 1/x**smp.Rational(1,4), x)"
      ]
    },
    {
      "cell_type": "markdown",
      "metadata": {
        "id": "NKu1ECc72McE"
      },
      "source": [
        "# Initial Value Problems"
      ]
    },
    {
      "cell_type": "markdown",
      "metadata": {
        "id": "_yI18Efb2McE"
      },
      "source": [
        "1. Given $\\frac{dy}{dx} = 8x + \\csc^2(x)$ with $y(\\pi/2) = -7$  solve for $y(x)$"
      ]
    },
    {
      "cell_type": "code",
      "execution_count": 14,
      "metadata": {
        "id": "KJ3SlSFS2McF"
      },
      "outputs": [],
      "source": [
        "integral = smp.integrate(8*x + smp.csc(x)**2, x)"
      ]
    },
    {
      "cell_type": "code",
      "execution_count": 15,
      "metadata": {
        "id": "30iWfohP2McF"
      },
      "outputs": [],
      "source": [
        "C = - integral.subs(x, smp.pi/2) - 7\n",
        "y = integral + C"
      ]
    },
    {
      "cell_type": "code",
      "execution_count": 16,
      "metadata": {
        "colab": {
          "base_uri": "https://localhost:8080/",
          "height": 37
        },
        "id": "h1DselIN2McF",
        "outputId": "1a943cfc-6e75-41a6-e1d3-0794d10217ca"
      },
      "outputs": [
        {
          "output_type": "execute_result",
          "data": {
            "text/plain": [
              "-7"
            ],
            "text/latex": "$\\displaystyle -7$"
          },
          "metadata": {},
          "execution_count": 16
        }
      ],
      "source": [
        "y.subs(x, smp.pi/2)"
      ]
    },
    {
      "cell_type": "code",
      "execution_count": 17,
      "metadata": {
        "colab": {
          "base_uri": "https://localhost:8080/",
          "height": 57
        },
        "id": "cC_-M8nU2McF",
        "outputId": "da793194-533c-401e-91e7-5a41aad1d054"
      },
      "outputs": [
        {
          "output_type": "execute_result",
          "data": {
            "text/plain": [
              "4*x**2 - pi**2 - 7 - cos(x)/sin(x)"
            ],
            "text/latex": "$\\displaystyle 4 x^{2} - \\pi^{2} - 7 - \\frac{\\cos{\\left(x \\right)}}{\\sin{\\left(x \\right)}}$"
          },
          "metadata": {},
          "execution_count": 17
        }
      ],
      "source": [
        "y"
      ]
    },
    {
      "cell_type": "markdown",
      "metadata": {
        "id": "T7L_ikLg2McG"
      },
      "source": [
        "# More Complicated Expressions"
      ]
    },
    {
      "cell_type": "markdown",
      "metadata": {
        "id": "Bjlee8ju2McG"
      },
      "source": [
        " $$\\int \\frac{(1+\\sqrt{x})^{1/3}}{\\sqrt{x}} dx$$"
      ]
    },
    {
      "cell_type": "code",
      "execution_count": 18,
      "metadata": {
        "colab": {
          "base_uri": "https://localhost:8080/",
          "height": 56
        },
        "id": "WGoccy9I2McG",
        "outputId": "5f0e9ebf-ec07-4dc2-a48f-455425e7a1de"
      },
      "outputs": [
        {
          "output_type": "execute_result",
          "data": {
            "text/plain": [
              "3*sqrt(x)*(sqrt(x) + 1)**(1/3)/2 + 3*(sqrt(x) + 1)**(1/3)/2"
            ],
            "text/latex": "$\\displaystyle \\frac{3 \\sqrt{x} \\sqrt[3]{\\sqrt{x} + 1}}{2} + \\frac{3 \\sqrt[3]{\\sqrt{x} + 1}}{2}$"
          },
          "metadata": {},
          "execution_count": 18
        }
      ],
      "source": [
        "smp.integrate((1+smp.sqrt(x))**smp.Rational(1,3) / smp.sqrt(x), x)"
      ]
    },
    {
      "cell_type": "markdown",
      "metadata": {
        "id": "cL75lR0p2McH"
      },
      "source": [
        "$$\\int x (1-x^2)^{1/4} dx$$"
      ]
    },
    {
      "cell_type": "code",
      "execution_count": 19,
      "metadata": {
        "colab": {
          "base_uri": "https://localhost:8080/",
          "height": 56
        },
        "id": "MfJE_eZe2McH",
        "outputId": "41f9367c-c135-4cbc-b8be-1f08f87db812"
      },
      "outputs": [
        {
          "output_type": "execute_result",
          "data": {
            "text/plain": [
              "2*x**2*(1 - x**2)**(1/4)/5 - 2*(1 - x**2)**(1/4)/5"
            ],
            "text/latex": "$\\displaystyle \\frac{2 x^{2} \\sqrt[4]{1 - x^{2}}}{5} - \\frac{2 \\sqrt[4]{1 - x^{2}}}{5}$"
          },
          "metadata": {},
          "execution_count": 19
        }
      ],
      "source": [
        "smp.integrate(x*(1-x**2)**smp.Rational(1/4), x)"
      ]
    },
    {
      "cell_type": "markdown",
      "metadata": {
        "id": "M8-lNRKT2McH"
      },
      "source": [
        "$$ \\int \\frac{(2x-1)\\cos(\\sqrt{3(2x-1)^2+6})}{\\sqrt{3(2x-1)^2+6}} dx $$"
      ]
    },
    {
      "cell_type": "code",
      "execution_count": 20,
      "metadata": {
        "colab": {
          "base_uri": "https://localhost:8080/",
          "height": 76
        },
        "id": "StnwMA-42McH",
        "outputId": "ae78b074-b61b-40f0-dd2c-edc68fea7439"
      },
      "outputs": [
        {
          "output_type": "execute_result",
          "data": {
            "text/plain": [
              "sin(sqrt(3*(2*x - 1)**2 + 6))/6"
            ],
            "text/latex": "$\\displaystyle \\frac{\\sin{\\left(\\sqrt{3 \\left(2 x - 1\\right)^{2} + 6} \\right)}}{6}$"
          },
          "metadata": {},
          "execution_count": 20
        }
      ],
      "source": [
        "smp.integrate((2*x -1)*smp.cos(smp.sqrt(3*(2*x-1)**2 + 6)) / smp.sqrt(3*(2*x-1)**2 + 6), x)"
      ]
    },
    {
      "cell_type": "markdown",
      "metadata": {
        "id": "gIB4X3Ga2McT"
      },
      "source": [
        "# Definite Integrals"
      ]
    },
    {
      "cell_type": "markdown",
      "metadata": {
        "id": "Nk3W9cbF2McU"
      },
      "source": [
        "$$\\int_{0}^{\\ln(4)}\\frac{e^x dt}{\\sqrt{e^{2x}+9}} $$"
      ]
    },
    {
      "cell_type": "code",
      "execution_count": 21,
      "metadata": {
        "colab": {
          "base_uri": "https://localhost:8080/",
          "height": 58
        },
        "id": "vWvsYtZh2McU",
        "outputId": "cac18591-011d-4af4-cf26-196a27d1c11c"
      },
      "outputs": [
        {
          "output_type": "execute_result",
          "data": {
            "text/plain": [
              "-asinh(1/3) + asinh(4/3)"
            ],
            "text/latex": "$\\displaystyle - \\operatorname{asinh}{\\left(\\frac{1}{3} \\right)} + \\operatorname{asinh}{\\left(\\frac{4}{3} \\right)}$"
          },
          "metadata": {},
          "execution_count": 21
        }
      ],
      "source": [
        "smp.integrate(smp.exp(x) / smp.sqrt(smp.exp(2*x) + 9), (x, 0, smp.log(4)))"
      ]
    },
    {
      "cell_type": "markdown",
      "metadata": {
        "id": "FVhD2Snv2McU"
      },
      "source": [
        "$$\\int_1^t x^{10} e^x dx $$"
      ]
    },
    {
      "cell_type": "code",
      "execution_count": 22,
      "metadata": {
        "id": "84hQ4eAb2McU"
      },
      "outputs": [],
      "source": [
        "t= smp.symbols('t')"
      ]
    },
    {
      "cell_type": "code",
      "execution_count": 23,
      "metadata": {
        "colab": {
          "base_uri": "https://localhost:8080/",
          "height": 39
        },
        "id": "XBNe9sq82McV",
        "outputId": "f7752ae5-151e-4015-9383-38040f6dd684"
      },
      "outputs": [
        {
          "output_type": "execute_result",
          "data": {
            "text/plain": [
              "(t**10 - 10*t**9 + 90*t**8 - 720*t**7 + 5040*t**6 - 30240*t**5 + 151200*t**4 - 604800*t**3 + 1814400*t**2 - 3628800*t + 3628800)*exp(t) - 1334961*E"
            ],
            "text/latex": "$\\displaystyle \\left(t^{10} - 10 t^{9} + 90 t^{8} - 720 t^{7} + 5040 t^{6} - 30240 t^{5} + 151200 t^{4} - 604800 t^{3} + 1814400 t^{2} - 3628800 t + 3628800\\right) e^{t} - 1334961 e$"
          },
          "metadata": {},
          "execution_count": 23
        }
      ],
      "source": [
        "smp.integrate(x**10*smp.exp(x), (x, 1, t))"
      ]
    },
    {
      "cell_type": "markdown",
      "metadata": {
        "id": "d9jsxhi-2McV"
      },
      "source": [
        "# Improper Integrals"
      ]
    },
    {
      "cell_type": "markdown",
      "metadata": {
        "id": "r0COdN042McV"
      },
      "source": [
        "$$ \\int_{0}^{\\infty} \\frac{16 \\tan^{-1}(x)}{1+x^2} dx $$"
      ]
    },
    {
      "cell_type": "code",
      "execution_count": 24,
      "metadata": {
        "colab": {
          "base_uri": "https://localhost:8080/",
          "height": 38
        },
        "id": "YELoJOj82McV",
        "outputId": "9be17be9-f393-4df9-e378-afc8765f3ba1"
      },
      "outputs": [
        {
          "output_type": "execute_result",
          "data": {
            "text/plain": [
              "2*pi**2"
            ],
            "text/latex": "$\\displaystyle 2 \\pi^{2}$"
          },
          "metadata": {},
          "execution_count": 24
        }
      ],
      "source": [
        "smp.integrate(16*smp.atan(x) / (1+x**2), (x, 0, smp.oo))"
      ]
    },
    {
      "cell_type": "markdown",
      "metadata": {
        "id": "ubl0D5U12McW"
      },
      "source": [
        "# Sequences and Series"
      ]
    },
    {
      "cell_type": "code",
      "execution_count": 25,
      "metadata": {
        "id": "R-tugGow2McW"
      },
      "outputs": [],
      "source": [
        "n = smp.symbols('n')"
      ]
    },
    {
      "cell_type": "markdown",
      "metadata": {
        "id": "AHRSnkpy2McW"
      },
      "source": [
        "$$ \\sum_{n=0}^\\infty \\frac{6}{4^n} $$"
      ]
    },
    {
      "cell_type": "code",
      "execution_count": 26,
      "metadata": {
        "colab": {
          "base_uri": "https://localhost:8080/",
          "height": 37
        },
        "id": "a7c_lY542McW",
        "outputId": "336b903f-ec7d-45b9-c3d3-13e505bf1554"
      },
      "outputs": [
        {
          "output_type": "execute_result",
          "data": {
            "text/plain": [
              "8"
            ],
            "text/latex": "$\\displaystyle 8$"
          },
          "metadata": {},
          "execution_count": 26
        }
      ],
      "source": [
        "smp.Sum(6/4**n, (n,0,smp.oo)).doit()"
      ]
    },
    {
      "cell_type": "markdown",
      "metadata": {
        "id": "RdJR8m9R2McX"
      },
      "source": [
        "$$ \\sum_{n=0}^\\infty \\frac{2^{n+1}}{5^n} $$"
      ]
    },
    {
      "cell_type": "code",
      "execution_count": 27,
      "metadata": {
        "colab": {
          "base_uri": "https://localhost:8080/",
          "height": 51
        },
        "id": "n9zwyaCs2McX",
        "outputId": "4d8b3d9f-4835-4329-8b1c-0c57ca0592ce"
      },
      "outputs": [
        {
          "output_type": "execute_result",
          "data": {
            "text/plain": [
              "10/3"
            ],
            "text/latex": "$\\displaystyle \\frac{10}{3}$"
          },
          "metadata": {},
          "execution_count": 27
        }
      ],
      "source": [
        "smp.Sum(2**(n+1) / 5**n, (n,0,smp.oo)).doit()"
      ]
    },
    {
      "cell_type": "markdown",
      "metadata": {
        "id": "4f1hibXk2McX"
      },
      "source": [
        "$$ \\sum_{n=1}^{\\infty} \\frac{\\tan^{-1}(n)}{n^{1.1}} $$"
      ]
    },
    {
      "cell_type": "code",
      "execution_count": 28,
      "metadata": {
        "colab": {
          "base_uri": "https://localhost:8080/",
          "height": 66
        },
        "id": "B5f64ZIR2McX",
        "outputId": "b6890dac-a8dd-4995-e412-7653af082a8c"
      },
      "outputs": [
        {
          "output_type": "execute_result",
          "data": {
            "text/plain": [
              "Sum(atan(n)/n**(11/10), (n, 1, oo))"
            ],
            "text/latex": "$\\displaystyle \\sum_{n=1}^{\\infty} \\frac{\\operatorname{atan}{\\left(n \\right)}}{n^{\\frac{11}{10}}}$"
          },
          "metadata": {},
          "execution_count": 28
        }
      ],
      "source": [
        "smp.Sum(smp.atan(n)/n**smp.Rational(11,10), (n,1,smp.oo)).doit()"
      ]
    },
    {
      "cell_type": "markdown",
      "metadata": {
        "id": "Re7xuvRs2McX"
      },
      "source": [
        "$$ \\sum_{n=1}^\\infty \\frac{1 + \\cos(n)}{n^2}$$"
      ]
    },
    {
      "cell_type": "code",
      "execution_count": 29,
      "metadata": {
        "colab": {
          "base_uri": "https://localhost:8080/",
          "height": 37
        },
        "id": "k8BkKgfz2McY",
        "outputId": "4dacf0b0-882c-4955-c809-8dfa9427df26"
      },
      "outputs": [
        {
          "output_type": "execute_result",
          "data": {
            "text/plain": [
              "1.969"
            ],
            "text/latex": "$\\displaystyle 1.969$"
          },
          "metadata": {},
          "execution_count": 29
        }
      ],
      "source": [
        "smp.Sum((1+smp.cos(n))/n**2, (n,1,smp.oo)).n()"
      ]
    }
  ],
  "metadata": {
    "kernelspec": {
      "display_name": "Python 3",
      "name": "python3"
    },
    "language_info": {
      "codemirror_mode": {
        "name": "ipython",
        "version": 3
      },
      "file_extension": ".py",
      "mimetype": "text/x-python",
      "name": "python",
      "nbconvert_exporter": "python",
      "pygments_lexer": "ipython3",
      "version": "3.6.9"
    },
    "colab": {
      "provenance": [],
      "include_colab_link": true
    },
    "accelerator": "TPU"
  },
  "nbformat": 4,
  "nbformat_minor": 0
}